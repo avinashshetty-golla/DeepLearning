{
 "cells": [
  {
   "cell_type": "code",
   "execution_count": 1,
   "id": "82b8e040-a73a-4a21-a591-5a15acd718aa",
   "metadata": {
    "tags": []
   },
   "outputs": [],
   "source": [
    "#Param Vs Gen\n",
    "import torch\n",
    "import torch.nn as nn\n",
    "import torch.optim as optim\n",
    "\n",
    "from torchvision import datasets, transforms\n",
    "from torch.autograd import Variable\n",
    "from PIL import Image\n",
    "\n",
    "import torch.nn.functional as F\n",
    "import numpy as np\n",
    "import matplotlib.pyplot as plt\n",
    "\n",
    "import os"
   ]
  },
  {
   "cell_type": "code",
   "execution_count": 2,
   "id": "8c67e909-7edb-447e-b4d5-465865c69966",
   "metadata": {
    "tags": []
   },
   "outputs": [],
   "source": [
    "def fetch_data(train_sz, test_sz):\n",
    "    train_dataset = datasets.MNIST('data', train=True, download=False, \n",
    "                                   transform=transforms.Compose([\n",
    "                                       transforms.ToTensor(),\n",
    "                                       transforms.Normalize((0.137,), (0.302,))\n",
    "                                   ]))\n",
    "    train_loader = torch.utils.data.DataLoader(train_dataset, batch_size=train_sz, shuffle=True)\n",
    "    \n",
    "    test_dataset = datasets.MNIST('data', train=False, download=False, \n",
    "                                  transform=transforms.Compose([\n",
    "                                      transforms.ToTensor(),\n",
    "                                      transforms.Normalize((0.137,), (0.302,))\n",
    "                                  ]))\n",
    "    test_loader = torch.utils.data.DataLoader(test_dataset, batch_size=test_sz, shuffle=True)\n",
    "    \n",
    "    return train_loader, test_loader"
   ]
  },
  {
   "cell_type": "code",
   "execution_count": 3,
   "id": "4fa9107e-1a0d-4e51-ae31-7bcd592e99df",
   "metadata": {
    "tags": []
   },
   "outputs": [],
   "source": [
    "class NeuralNet_1(nn.Module):\n",
    "    def __init__(self):\n",
    "        super().__init__()\n",
    "        self.fc1 = nn.Linear(784, 7)\n",
    "        self.fc2 = nn.Linear(7, 11)\n",
    "        self.fc3 = nn.Linear(11, 10)\n",
    "\n",
    "    def forward(self, x):\n",
    "        x = F.relu(self.fc1(x))\n",
    "        x = F.relu(self.fc2(x))\n",
    "        x = self.fc3(x)\n",
    "        return x\n",
    "\n",
    "class NeuralNet_2(nn.Module):\n",
    "    def __init__(self):\n",
    "        super().__init__()\n",
    "        self.fc1 = nn.Linear(784, 28)\n",
    "        self.fc2 = nn.Linear(28, 12)\n",
    "        self.fc3 = nn.Linear(12, 10)\n",
    "\n",
    "    def forward(self, x):\n",
    "        x = F.relu(self.fc1(x))\n",
    "        x = F.relu(self.fc2(x))\n",
    "        x = self.fc3(x)\n",
    "        return x\n",
    "\n",
    "class NeuralNet_3(nn.Module):\n",
    "    def __init__(self):\n",
    "        super().__init__()\n",
    "        self.fc1 = nn.Linear(784, 50)\n",
    "        self.fc2 = nn.Linear(50, 12)\n",
    "        self.fc3 = nn.Linear(12, 10)\n",
    "\n",
    "    def forward(self, x):\n",
    "        x = F.relu(self.fc1(x))\n",
    "        x = F.relu(self.fc2(x))\n",
    "        x = self.fc3(x)\n",
    "        return x\n",
    "\n",
    "class NeuralNet_4(nn.Module):\n",
    "    def __init__(self):\n",
    "        super().__init__()\n",
    "        self.fc1 = nn.Linear(784, 70)\n",
    "        self.fc2 = nn.Linear(70, 14)\n",
    "        self.fc3 = nn.Linear(14, 10)\n",
    "\n",
    "    def forward(self, x):\n",
    "        x = F.relu(self.fc1(x))\n",
    "        x = F.relu(self.fc2(x))\n",
    "        x = self.fc3(x)\n",
    "        return x\n",
    "\n",
    "class NeuralNet_5(nn.Module):\n",
    "    def __init__(self):\n",
    "        super().__init__()\n",
    "        self.fc1 = nn.Linear(784, 90)\n",
    "        self.fc2 = nn.Linear(90, 16)\n",
    "        self.fc3 = nn.Linear(16, 10)\n",
    "\n",
    "    def forward(self, x):\n",
    "        x = F.relu(self.fc1(x))\n",
    "        x = F.relu(self.fc2(x))\n",
    "        x = self.fc3(x)\n",
    "        return x"
   ]
  },
  {
   "cell_type": "code",
   "execution_count": 4,
   "id": "81b2d016-c096-41ae-b673-5fc042da4ae7",
   "metadata": {
    "tags": []
   },
   "outputs": [],
   "source": [
    "class NeuralNet_6(nn.Module):\n",
    "    def __init__(self):\n",
    "        super().__init__()\n",
    "        self.fc1 = nn.Linear(784, 110)\n",
    "        self.fc2 = nn.Linear(110, 18)\n",
    "        self.fc3 = nn.Linear(18, 10)\n",
    "\n",
    "    def forward(self, x):\n",
    "        x = F.relu(self.fc1(x))\n",
    "        x = F.relu(self.fc2(x))\n",
    "        x = self.fc3(x)\n",
    "        return x\n",
    "\n",
    "class NeuralNet_7(nn.Module):\n",
    "    def __init__(self):\n",
    "        super().__init__()\n",
    "        self.fc1 = nn.Linear(784, 130)\n",
    "        self.fc2 = nn.Linear(130, 20)\n",
    "        self.fc3 = nn.Linear(20, 10)\n",
    "\n",
    "    def forward(self, x):\n",
    "        x = F.relu(self.fc1(x))\n",
    "        x = F.relu(self.fc2(x))\n",
    "        x = self.fc3(x)\n",
    "        return x\n",
    "\n",
    "class NeuralNet_8(nn.Module):\n",
    "    def __init__(self):\n",
    "        super().__init__()\n",
    "        self.fc1 = nn.Linear(784, 150)\n",
    "        self.fc2 = nn.Linear(150, 22)\n",
    "        self.fc3 = nn.Linear(22, 10)\n",
    "\n",
    "    def forward(self, x):\n",
    "        x = F.relu(self.fc1(x))\n",
    "        x = F.relu(self.fc2(x))\n",
    "        x = self.fc3(x)\n",
    "        return x\n",
    "\n",
    "class NeuralNet_9(nn.Module):\n",
    "    def __init__(self):\n",
    "        super().__init__()\n",
    "        self.fc1 = nn.Linear(784, 170)\n",
    "        self.fc2 = nn.Linear(170, 24)\n",
    "        self.fc3 = nn.Linear(24, 10)\n",
    "\n",
    "    def forward(self, x):\n",
    "        x = F.relu(self.fc1(x))\n",
    "        x = F.relu(self.fc2(x))\n",
    "        x = self.fc3(x)\n",
    "        return x\n",
    "\n",
    "class NeuralNet_10(nn.Module):\n",
    "    def __init__(self):\n",
    "        super().__init__()\n",
    "        self.fc1 = nn.Linear(784, 190)\n",
    "        self.fc2 = nn.Linear(190, 26)\n",
    "        self.fc3 = nn.Linear(26, 10)\n",
    "\n",
    "    def forward(self, x):\n",
    "        x = F.relu(self.fc1(x))\n",
    "        x = F.relu(self.fc2(x))\n",
    "        x = self.fc3(x)\n",
    "        return x"
   ]
  },
  {
   "cell_type": "code",
   "execution_count": 5,
   "id": "6ef8f215-31aa-4def-957a-75b20bf2aeb3",
   "metadata": {
    "tags": []
   },
   "outputs": [],
   "source": [
    "def model_params_info(model_name, model):\n",
    "    num_params = sum(p.numel() for p in model.parameters())\n",
    "    print(f'{model_name}: {num_params}')\n",
    "    return num_params"
   ]
  },
  {
   "cell_type": "code",
   "execution_count": 6,
   "id": "571f6864-5bd4-472c-a8ca-a5cb25e7f99e",
   "metadata": {
    "tags": []
   },
   "outputs": [],
   "source": [
    "batch_train = 50\n",
    "batch_test = 100\n",
    "train_loader, test_loader = fetch_data(batch_train, batch_test)"
   ]
  },
  {
   "cell_type": "code",
   "execution_count": 7,
   "id": "70f3d046-32c2-4ec8-8dfc-d9b0ec8e402d",
   "metadata": {
    "tags": []
   },
   "outputs": [],
   "source": [
    "def setup_optimizer(model_instance):\n",
    "    return optim.Adam(model_instance.parameters(), lr=0.0001)"
   ]
  },
  {
   "cell_type": "code",
   "execution_count": 8,
   "id": "9276b173-599a-48ea-84fa-c0817f202522",
   "metadata": {
    "tags": []
   },
   "outputs": [],
   "source": [
    "def model_training(network, optimizer, data_loader):\n",
    "    network.train()\n",
    "    for idx, (inputs, labels) in enumerate(data_loader):\n",
    "        inputs, labels = Variable(inputs), Variable(labels)\n",
    "        optimizer.zero_grad()\n",
    "\n",
    "        predictions = network(inputs.view(-1, 784))\n",
    "        criterion = nn.CrossEntropyLoss()\n",
    "        loss = criterion(predictions, labels)\n",
    "        loss.backward()\n",
    "        optimizer.step()"
   ]
  },
  {
   "cell_type": "code",
   "execution_count": 9,
   "id": "60225d98-efdd-4143-9a7a-8c0aee1f7001",
   "metadata": {
    "tags": []
   },
   "outputs": [],
   "source": [
    "def compute_performance(network, loader):\n",
    "    correct_preds = 0\n",
    "    total_preds = 0\n",
    "    total_loss = 0\n",
    "    count_batches = 0\n",
    "    criterion = nn.CrossEntropyLoss()\n",
    "    \n",
    "    with torch.no_grad():\n",
    "        for batch in loader:\n",
    "            inputs, labels = batch\n",
    "            outputs = network(inputs.view(-1, 784))\n",
    "            loss = criterion(outputs, labels)\n",
    "            total_loss += loss\n",
    "            count_batches += 1\n",
    "            for i, out_tensor in enumerate(outputs):\n",
    "                if torch.argmax(out_tensor) == labels[i]:\n",
    "                    correct_preds += 1\n",
    "                total_preds += 1\n",
    "                \n",
    "    avg_loss = total_loss / count_batches\n",
    "    accuracy = round(correct_preds / total_preds, 3)\n",
    "    return avg_loss, accuracy"
   ]
  },
  {
   "cell_type": "code",
   "execution_count": 10,
   "id": "3475940a-79b5-486a-ade0-08c684e6da31",
   "metadata": {
    "tags": []
   },
   "outputs": [],
   "source": [
    "num_epochs = 8\n",
    "param_list = []\n",
    "train_loss_hist = []\n",
    "test_loss_hist = []\n",
    "train_acc_hist = []\n",
    "test_acc_hist = []\n",
    "\n",
    "# Refactored model training loop\n",
    "def execute_training(network, optimizer, train_loader, test_loader):\n",
    "    print('Starting training...')\n",
    "    for epoch in range(1, num_epochs + 1):\n",
    "        model_training(network, optimizer, train_loader)\n",
    "    \n",
    "    train_loss, train_accuracy = compute_performance(network, train_loader)\n",
    "    test_loss, test_accuracy = compute_performance(network, test_loader)\n",
    "    \n",
    "    train_loss_hist.append(train_loss)\n",
    "    test_loss_hist.append(test_loss)\n",
    "    train_acc_hist.append(train_accuracy)\n",
    "    test_acc_hist.append(test_accuracy)\n",
    "    param_list.append(model_params_info('Model Parameters', network))\n",
    "    \n",
    "    print(f'Training finished with train loss: {train_loss}, test loss: {test_loss}')\n",
    "    return train_loss, test_loss"
   ]
  },
  {
   "cell_type": "code",
   "execution_count": 11,
   "id": "bc8e7b3f-e270-4f57-9aaa-0480617ad507",
   "metadata": {
    "tags": []
   },
   "outputs": [],
   "source": [
    "train_losses = []\n",
    "test_losses = []"
   ]
  },
  {
   "cell_type": "code",
   "execution_count": 12,
   "id": "5e4ea1b1-74f6-4387-a3d9-c886ae726595",
   "metadata": {
    "tags": []
   },
   "outputs": [
    {
     "name": "stdout",
     "output_type": "stream",
     "text": [
      "NeuralNet_1\n",
      "Starting training...\n",
      "Model Parameters: 5703\n",
      "Training finished with train loss: 0.353801429271698, test loss: 0.34780365228652954\n"
     ]
    },
    {
     "data": {
      "text/plain": [
       "(tensor(0.3538), tensor(0.3478))"
      ]
     },
     "execution_count": 12,
     "metadata": {},
     "output_type": "execute_result"
    }
   ],
   "source": [
    "network1 = NeuralNet_1()\n",
    "optimizer = setup_optimizer(network1)\n",
    "print('NeuralNet_1')\n",
    "execute_training(network1, optimizer, train_loader, test_loader)"
   ]
  },
  {
   "cell_type": "code",
   "execution_count": 13,
   "id": "7633ac63-db2f-487e-a20b-7751aa1f32d4",
   "metadata": {
    "tags": []
   },
   "outputs": [
    {
     "name": "stdout",
     "output_type": "stream",
     "text": [
      "NeuralNet_2\n",
      "Starting training...\n",
      "Model Parameters: 22458\n",
      "Training finished with train loss: 0.2097829431295395, test loss: 0.21117980778217316\n"
     ]
    },
    {
     "data": {
      "text/plain": [
       "(tensor(0.2098), tensor(0.2112))"
      ]
     },
     "execution_count": 13,
     "metadata": {},
     "output_type": "execute_result"
    }
   ],
   "source": [
    "network2 = NeuralNet_2()\n",
    "optimizer = setup_optimizer(network2)\n",
    "print('NeuralNet_2')\n",
    "execute_training(network2, optimizer, train_loader, test_loader)"
   ]
  },
  {
   "cell_type": "code",
   "execution_count": 14,
   "id": "4bd80838-4660-4c70-b8cd-cdb3c4db8741",
   "metadata": {
    "tags": []
   },
   "outputs": [
    {
     "name": "stdout",
     "output_type": "stream",
     "text": [
      "NeuralNet_3\n",
      "Starting training...\n",
      "Model Parameters: 39992\n",
      "Training finished with train loss: 0.17542429268360138, test loss: 0.18096378445625305\n"
     ]
    },
    {
     "data": {
      "text/plain": [
       "(tensor(0.1754), tensor(0.1810))"
      ]
     },
     "execution_count": 14,
     "metadata": {},
     "output_type": "execute_result"
    }
   ],
   "source": [
    "network3 = NeuralNet_3()\n",
    "optimizer = setup_optimizer(network3)\n",
    "print('NeuralNet_3')\n",
    "execute_training(network3, optimizer, train_loader, test_loader)"
   ]
  },
  {
   "cell_type": "code",
   "execution_count": 15,
   "id": "43fc27b0-f94f-4eb8-a5b1-73064f29ccb8",
   "metadata": {
    "tags": []
   },
   "outputs": [
    {
     "name": "stdout",
     "output_type": "stream",
     "text": [
      "NeuralNet_4\n",
      "Starting training...\n",
      "Model Parameters: 56094\n",
      "Training finished with train loss: 0.15696175396442413, test loss: 0.16197223961353302\n"
     ]
    },
    {
     "data": {
      "text/plain": [
       "(tensor(0.1570), tensor(0.1620))"
      ]
     },
     "execution_count": 15,
     "metadata": {},
     "output_type": "execute_result"
    }
   ],
   "source": [
    "network4 = NeuralNet_4()\n",
    "optimizer = setup_optimizer(network4)\n",
    "print('NeuralNet_4')\n",
    "execute_training(network4, optimizer, train_loader, test_loader)"
   ]
  },
  {
   "cell_type": "code",
   "execution_count": 16,
   "id": "05e6f99f-7890-4103-a471-9f43b938ee32",
   "metadata": {
    "tags": []
   },
   "outputs": [
    {
     "name": "stdout",
     "output_type": "stream",
     "text": [
      "NeuralNet_5\n",
      "Starting training...\n",
      "Model Parameters: 72276\n",
      "Training finished with train loss: 0.13592210412025452, test loss: 0.14605380594730377\n"
     ]
    },
    {
     "data": {
      "text/plain": [
       "(tensor(0.1359), tensor(0.1461))"
      ]
     },
     "execution_count": 16,
     "metadata": {},
     "output_type": "execute_result"
    }
   ],
   "source": [
    "network5 = NeuralNet_5()\n",
    "optimizer = setup_optimizer(network5)\n",
    "print('NeuralNet_5')\n",
    "execute_training(network5, optimizer, train_loader, test_loader)"
   ]
  },
  {
   "cell_type": "code",
   "execution_count": 17,
   "id": "84abc5dd-37d6-4475-8566-9769a85d34b2",
   "metadata": {
    "tags": []
   },
   "outputs": [
    {
     "name": "stdout",
     "output_type": "stream",
     "text": [
      "NeuralNet_6\n",
      "Starting training...\n",
      "Model Parameters: 88538\n",
      "Training finished with train loss: 0.12828680872917175, test loss: 0.14207369089126587\n"
     ]
    },
    {
     "data": {
      "text/plain": [
       "(tensor(0.1283), tensor(0.1421))"
      ]
     },
     "execution_count": 17,
     "metadata": {},
     "output_type": "execute_result"
    }
   ],
   "source": [
    "network6 = NeuralNet_6()\n",
    "optimizer = setup_optimizer(network6)\n",
    "print('NeuralNet_6')\n",
    "execute_training(network6, optimizer, train_loader, test_loader)\n"
   ]
  },
  {
   "cell_type": "code",
   "execution_count": 18,
   "id": "0d06078e-e55a-4697-ba1e-dcd2bc09d1e6",
   "metadata": {
    "tags": []
   },
   "outputs": [
    {
     "name": "stdout",
     "output_type": "stream",
     "text": [
      "NeuralNet_7\n",
      "Starting training...\n",
      "Model Parameters: 104880\n",
      "Training finished with train loss: 0.11713073402643204, test loss: 0.1277497410774231\n"
     ]
    },
    {
     "data": {
      "text/plain": [
       "(tensor(0.1171), tensor(0.1277))"
      ]
     },
     "execution_count": 18,
     "metadata": {},
     "output_type": "execute_result"
    }
   ],
   "source": [
    "network7 = NeuralNet_7()\n",
    "optimizer = setup_optimizer(network7)\n",
    "print('NeuralNet_7')\n",
    "execute_training(network7, optimizer, train_loader, test_loader)"
   ]
  },
  {
   "cell_type": "code",
   "execution_count": 19,
   "id": "362f6835-ecd0-4184-87db-dab5e2b27ae1",
   "metadata": {
    "tags": []
   },
   "outputs": [
    {
     "name": "stdout",
     "output_type": "stream",
     "text": [
      "NeuralNet_8\n",
      "Starting training...\n",
      "Model Parameters: 121302\n",
      "Training finished with train loss: 0.10422670096158981, test loss: 0.1169322282075882\n"
     ]
    },
    {
     "data": {
      "text/plain": [
       "(tensor(0.1042), tensor(0.1169))"
      ]
     },
     "execution_count": 19,
     "metadata": {},
     "output_type": "execute_result"
    }
   ],
   "source": [
    "network8 = NeuralNet_8()\n",
    "optimizer = setup_optimizer(network8)\n",
    "print('NeuralNet_8')\n",
    "execute_training(network8, optimizer, train_loader, test_loader)"
   ]
  },
  {
   "cell_type": "code",
   "execution_count": 20,
   "id": "919ebe49-b43c-4e31-a8aa-7d7134f77e4b",
   "metadata": {
    "tags": []
   },
   "outputs": [
    {
     "name": "stdout",
     "output_type": "stream",
     "text": [
      "NeuralNet_9\n",
      "Starting training...\n",
      "Model Parameters: 137804\n",
      "Training finished with train loss: 0.0943545326590538, test loss: 0.11171266436576843\n"
     ]
    },
    {
     "data": {
      "text/plain": [
       "(tensor(0.0944), tensor(0.1117))"
      ]
     },
     "execution_count": 20,
     "metadata": {},
     "output_type": "execute_result"
    }
   ],
   "source": [
    "network9 = NeuralNet_9()\n",
    "optimizer = setup_optimizer(network9)\n",
    "print('NeuralNet_9')\n",
    "execute_training(network9, optimizer, train_loader, test_loader)"
   ]
  },
  {
   "cell_type": "code",
   "execution_count": 21,
   "id": "d0b36521-98a2-4999-a5f0-9f99e1f2b274",
   "metadata": {
    "tags": []
   },
   "outputs": [
    {
     "name": "stdout",
     "output_type": "stream",
     "text": [
      "NeuralNet_10\n",
      "Starting training...\n",
      "Model Parameters: 154386\n",
      "Training finished with train loss: 0.0934167131781578, test loss: 0.1137903705239296\n"
     ]
    },
    {
     "data": {
      "text/plain": [
       "(tensor(0.0934), tensor(0.1138))"
      ]
     },
     "execution_count": 21,
     "metadata": {},
     "output_type": "execute_result"
    }
   ],
   "source": [
    "network10 = NeuralNet_10()\n",
    "optimizer = setup_optimizer(network10)\n",
    "print('NeuralNet_10')\n",
    "execute_training(network10, optimizer, train_loader, test_loader)"
   ]
  },
  {
   "cell_type": "code",
   "execution_count": 22,
   "id": "5d35f41c-135a-4695-ac4a-53dfc54f5b31",
   "metadata": {
    "tags": []
   },
   "outputs": [
    {
     "data": {
      "image/png": "[encoded data removed]",
      "text/plain": [
       "<Figure size 640x480 with 1 Axes>"
      ]
     },
     "metadata": {},
     "output_type": "display_data"
    }
   ],
   "source": [
    "# Plotting the loss vs parameters with updated variable names\n",
    "plt.xlabel('Parameters')\n",
    "plt.ylabel('Loss')\n",
    "plt.scatter(param_list, train_loss_hist, color=\"orange\")\n",
    "plt.scatter(param_list, test_loss_hist, color=\"purple\")\n",
    "plt.legend(['Train Loss', 'Test Loss'])\n",
    "plt.show()\n"
   ]
  },
  {
   "cell_type": "code",
   "execution_count": 24,
   "id": "cd3edac5-8088-48ca-8f35-d538b79db5ff",
   "metadata": {
    "tags": []
   },
   "outputs": [
    {
     "data": {
      "image/png": "[encoded data removed]",
      "text/plain": [
       "<Figure size 640x480 with 1 Axes>"
      ]
     },
     "metadata": {},
     "output_type": "display_data"
    }
   ],
   "source": [
    "# Plotting the accuracy vs parameters with updated variable names\n",
    "plt.xlabel('Parameters')\n",
    "plt.ylabel('Accuracy')\n",
    "plt.scatter(param_list, train_acc_hist, color=\"orange\")\n",
    "plt.scatter(param_list, test_acc_hist, color=\"purple\")\n",
    "plt.legend(['Train Accuracy', 'Test Accuracy'])\n",
    "plt.show()"
   ]
  },
  {
   "cell_type": "code",
   "execution_count": null,
   "id": "ed4eeb77-3d2d-46ad-951e-1f22a9dc3e20",
   "metadata": {},
   "outputs": [],
   "source": []
  }
 ],
 "metadata": {
  "kernelspec": {
   "display_name": "Python 3 (ipykernel)",
   "language": "python",
   "name": "python3"
  },
  "language_info": {
   "codemirror_mode": {
    "name": "ipython",
    "version": 3
   },
   "file_extension": ".py",
   "mimetype": "text/x-python",
   "name": "python",
   "nbconvert_exporter": "python",
   "pygments_lexer": "ipython3",
   "version": "3.11.5"
  }
 },
 "nbformat": 4,
 "nbformat_minor": 5
}
